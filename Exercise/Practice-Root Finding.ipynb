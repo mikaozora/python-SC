{
 "cells": [
  {
   "cell_type": "code",
   "execution_count": 29,
   "id": "1198a341",
   "metadata": {},
   "outputs": [],
   "source": [
    "# import numpy as np\n",
    "# from sympy import *"
   ]
  },
  {
   "cell_type": "code",
   "execution_count": 30,
   "id": "2ef1a0ec",
   "metadata": {},
   "outputs": [
    {
     "name": "stdout",
     "output_type": "stream",
     "text": [
      "Equation 1:\n",
      "f(x) = 7*x**4 - 3*x**2 + x\n",
      "f'(x) = 28*x**3 - 6*x + 1\n",
      "Iteration 1, root: 0.782608695652174\n",
      "Iteration 2, root: 0.6210684619745717\n",
      "Iteration 3, root: 0.4941304782745192\n",
      "Iteration 4, root: 0.3675198418052212\n",
      "Iteration 5, root: -0.11948918023737432\n",
      "With current iteration, the root is not found\n",
      "\n",
      "Equation 2:\n",
      "f(x) = 8*x**6 + 5*x**4 - 2\n",
      "f'(x) = 48*x**5 + 20*x**3\n",
      "Iteration 1, root: 0.8382352941176471\n",
      "Iteration 2, root: 0.7357300136098767\n",
      "Iteration 3, root: 0.6956565368667311\n",
      "Iteration 4, root: 0.6903195287760319\n",
      "The root: 0.6903195287760319\n"
     ]
    }
   ],
   "source": [
    "# def newtonRhapson(f, df, x0, tolerance, max, i):\n",
    "#     if max == 0:\n",
    "#         print(\"With current iteration, the root is not found\")\n",
    "#         return False\n",
    "#     if np.abs(f(x0)) < tolerance:\n",
    "#         print(f\"The root: {x0}\")\n",
    "#         return True\n",
    "#     else:\n",
    "#         xNew = x0 - (f(x0)/df(x0))\n",
    "#         print(f\"Iteration {i}, root: {xNew}\")\n",
    "#         newtonRhapson(f, df, xNew, tolerance, max-1, i+1)\n",
    "\n",
    "# x = symbols(\"x\")\n",
    "# f1 = lambda x: 7*x**4 - 3*x**2 + x\n",
    "# print(\"Equation 1:\")\n",
    "# df1 = diff(f1(x), x, 0)\n",
    "# print(f\"f(x) = {df1}\")\n",
    "# df1 = diff(f1(x), x)\n",
    "# print(f\"f'(x) = {df1}\")\n",
    "# df1 = lambdify(x, df1, \"numpy\")\n",
    "# newtonRhapson(f1, df1, 1, 0.006541, 5, 1)\n",
    "# print()\n",
    "\n",
    "# f2 = lambda x: 8*x**6 + 5*x**4 - 2\n",
    "# print(\"Equation 2:\")\n",
    "# df2 = diff(f2(x), x, 0)\n",
    "# print(f\"f(x) = {df2}\")\n",
    "# df2 = diff(f2(x), x)\n",
    "# print(f\"f'(x) = {df2}\")\n",
    "# df2 = lambdify(x, df2, \"numpy\")\n",
    "# newtonRhapson(f2, df2, 1, 0.006541, 5, 1)"
   ]
  },
  {
   "cell_type": "code",
   "execution_count": 43,
   "id": "003e0c88",
   "metadata": {},
   "outputs": [],
   "source": [
    "# def bisection(f, a, b, tolerance):\n",
    "#     if np.sign(f(a)) == np.sign(f(b)):\n",
    "#         print(\"No answer!\")\n",
    "#         return False\n",
    "#     mid = (a+b)/2\n",
    "#     if np.abs(f(mid)) < tolerance:\n",
    "#         print(f\"Root: {mid}\")\n",
    "#         return True\n",
    "#     elif np.sign(f(a)) == np.sign(f(mid)):\n",
    "#         bisection(f, mid, b, tolerance)\n",
    "#     elif np.sign(f(b)) == np.sign(f(mid)):\n",
    "#         bisection(f, a, mid, tolerance)\n",
    "\n",
    "# f = lambda x: x**3 + 3*x - 5\n",
    "# # f = lambda x: x**3 - 1.2*x**2 - 8.19*x + 13.23\n",
    "# a = 1\n",
    "# b = 2\n",
    "# tolerance = 0.01\n",
    "# bisection(f, a, b, tolerance)"
   ]
  },
  {
   "cell_type": "code",
   "execution_count": 45,
   "id": "b2f8133a",
   "metadata": {},
   "outputs": [],
   "source": [
    "import numpy as np\n",
    "from sympy import *"
   ]
  },
  {
   "cell_type": "code",
   "execution_count": 54,
   "id": "4c6eac7b",
   "metadata": {},
   "outputs": [
    {
     "name": "stdout",
     "output_type": "stream",
     "text": [
      "Equation 1:\n",
      "f(x) = 7*x**4 - 3*x**2 + x\n",
      "f'(x) = 28*x**3 - 6*x + 1\n",
      "Iteration 1, root = 0.782608695652174\n",
      "Iteration 2, root = 0.6210684619745717\n",
      "Iteration 3, root = 0.4941304782745192\n",
      "Iteration 4, root = 0.3675198418052212\n",
      "Iteration 5, root = -0.11948918023737432\n",
      "With current iteration, the root is not found\n",
      "\n",
      "Equation 2:\n",
      "f(x) = 8*x**6 + 5*x**4 - 2\n",
      "f'(x) = 48*x**5 + 20*x**3\n",
      "Iteration 1, root = 0.8382352941176471\n",
      "Iteration 2, root = 0.7357300136098767\n",
      "Iteration 3, root = 0.6956565368667311\n",
      "Iteration 4, root = 0.6903195287760319\n",
      "The root: 0.6903195287760319\n"
     ]
    }
   ],
   "source": [
    "def newtonRhapson(f, df, x0, tolerance, max, i):\n",
    "    if max == 0:\n",
    "        print(\"With current iteration, the root is not found\")\n",
    "        return False\n",
    "    if np.abs(f(x0)) < tolerance:\n",
    "        print(f\"The root: {x0}\")\n",
    "        return True\n",
    "    else:\n",
    "        xNew = x0 - (f(x0)/df(x0))\n",
    "        print(f\"Iteration {i}, root = {xNew}\")\n",
    "        newtonRhapson(f, df, xNew, tolerance, max-1, i+1)\n",
    "x = symbols(\"x\")\n",
    "f1 = lambda x: 7*x**4 - 3*x**2 + x\n",
    "print(\"Equation 1:\")\n",
    "df1 = diff(f1(x), x, 0)\n",
    "print(f\"f(x) = {df1}\")\n",
    "df1 = diff(f1(x), x)\n",
    "print(f\"f'(x) = {df1}\")\n",
    "df1 = lambdify(x, df1, \"numpy\")\n",
    "newtonRhapson(f1, df1, 1, 0.006541, 5, 1)\n",
    "print()\n",
    "\n",
    "print(\"Equation 2:\")\n",
    "f1 = lambda x: 8*x**6 + 5*x**4 - 2\n",
    "df1 = diff(f1(x), x, 0)\n",
    "print(f\"f(x) = {df1}\")\n",
    "df1 = diff(f1(x), x)\n",
    "print(f\"f'(x) = {df1}\")\n",
    "df1 = lambdify(x, df1, \"numpy\")\n",
    "newtonRhapson(f1, df1, 1, 0.006541, 5, 1)"
   ]
  },
  {
   "cell_type": "code",
   "execution_count": 55,
   "id": "bcf99985",
   "metadata": {},
   "outputs": [
    {
     "name": "stdout",
     "output_type": "stream",
     "text": [
      "root: -3.0\n"
     ]
    }
   ],
   "source": [
    "def bisection(f, a, b, tolerance):\n",
    "    if np.sign(f(a)) == np.sign(f(b)):\n",
    "        print(\"No Answer\")\n",
    "        return False\n",
    "    mid = (a + b)/2\n",
    "    if np.abs(f(mid)) < tolerance:\n",
    "        print(f\"root: {mid}\")\n",
    "        return True\n",
    "    elif np.sign(f(a)) == np.sign(f(mid)):\n",
    "        bisection(f, mid, b, tolerance)\n",
    "    elif np.sign(f(b)) == np.sign(f(mid)):\n",
    "        bisection(f, a, mid, tolerance)\n",
    "\n",
    "f = lambda x: x**3 - 1.2*x**2 - 8.19*x + 13.23\n",
    "a = -4\n",
    "b = 0\n",
    "tolerance = 0.001\n",
    "bisection(f, a, b, tolerance)"
   ]
  }
 ],
 "metadata": {
  "kernelspec": {
   "display_name": "Python 3 (ipykernel)",
   "language": "python",
   "name": "python3"
  },
  "language_info": {
   "codemirror_mode": {
    "name": "ipython",
    "version": 3
   },
   "file_extension": ".py",
   "mimetype": "text/x-python",
   "name": "python",
   "nbconvert_exporter": "python",
   "pygments_lexer": "ipython3",
   "version": "3.11.1"
  }
 },
 "nbformat": 4,
 "nbformat_minor": 5
}
