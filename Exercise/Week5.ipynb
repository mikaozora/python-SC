{
 "cells": [
  {
   "cell_type": "code",
   "execution_count": 26,
   "id": "146412ef",
   "metadata": {},
   "outputs": [
    {
     "name": "stdout",
     "output_type": "stream",
     "text": [
      "0.2\n",
      "Left Riemann:  27.439999999999998\n",
      "Right Riemann:  32.64\n",
      "[2.1 2.3 2.5 2.7 2.9]\n",
      "Mid Riemann:  29.980000000000004\n",
      "Trapezoid:  30.04\n"
     ]
    }
   ],
   "source": [
    "import numpy as np\n",
    "\n",
    "def f(x):\n",
    "    return 6*x**2 - 4*x + 2\n",
    "\n",
    "a = 2\n",
    "b = 3\n",
    "n = 6\n",
    "\n",
    "boxWidth = (b-a)/(n-1)\n",
    "print(boxWidth)\n",
    "\n",
    "x = np.linspace(a, b, n)\n",
    "# print(x)\n",
    "\n",
    "# left riemann\n",
    "xLeft = x[ :-1]\n",
    "# print(xLeft)\n",
    "\n",
    "yLeft = f(xLeft)\n",
    "# print(yLeft)\n",
    "\n",
    "\n",
    "leftRiemann = boxWidth * np.sum(np.abs(yLeft))\n",
    "print(\"Left Riemann: \", leftRiemann)\n",
    "\n",
    "#right riemann\n",
    "xRight = x[1:]\n",
    "# print(xRight)\n",
    "yRight = f(xRight)\n",
    "\n",
    "rightRiemann = boxWidth * np.sum(np.abs(yRight))\n",
    "print(\"Right Riemann: \", rightRiemann)\n",
    "\n",
    "\n",
    "#mid riemann\n",
    "xMid = (xLeft + xRight)/2\n",
    "print(xMid)\n",
    "\n",
    "yMid = f(xMid)\n",
    "midRiemann = boxWidth * np.sum(np.abs(yMid))\n",
    "print(\"Mid Riemann: \", midRiemann)\n",
    "\n",
    "#trapezoid\n",
    "trapezoid = np.sum(np.abs((yLeft + yRight)/2)) * boxWidth\n",
    "print(\"Trapezoid: \", trapezoid)"
   ]
  }
 ],
 "metadata": {
  "kernelspec": {
   "display_name": "Python 3 (ipykernel)",
   "language": "python",
   "name": "python3"
  },
  "language_info": {
   "codemirror_mode": {
    "name": "ipython",
    "version": 3
   },
   "file_extension": ".py",
   "mimetype": "text/x-python",
   "name": "python",
   "nbconvert_exporter": "python",
   "pygments_lexer": "ipython3",
   "version": "3.11.1"
  }
 },
 "nbformat": 4,
 "nbformat_minor": 5
}
