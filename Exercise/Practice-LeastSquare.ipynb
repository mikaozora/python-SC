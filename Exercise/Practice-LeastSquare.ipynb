{
 "cells": [
  {
   "cell_type": "code",
   "execution_count": 76,
   "id": "6101b5dd",
   "metadata": {},
   "outputs": [],
   "source": [
    "# import numpy as np\n",
    "# from matplotlib import pyplot as plt\n",
    "# from scipy.interpolate import interp1d, CubicSpline"
   ]
  },
  {
   "cell_type": "code",
   "execution_count": 77,
   "id": "4a18cd03",
   "metadata": {},
   "outputs": [],
   "source": [
    "x = [1, 5, 7, 2, 3, 9, 10, 4, 6, 8]\n",
    "y = [34, 51, 80, 25, 90, 76, 100, 11, 45, 62]\n",
    "\n",
    "x2 = [1, 6, 11, 16]\n",
    "y2 = [2, 5, 3, 7]"
   ]
  },
  {
   "cell_type": "code",
   "execution_count": 78,
   "id": "a22a7681",
   "metadata": {},
   "outputs": [],
   "source": [
    "# x = np.array(x)\n",
    "# y = np.array(y)\n",
    "\n",
    "# A = np.vstack([x, np.ones(len(y))]).T\n",
    "# # print(A)\n",
    "# Y = np.vstack(y)\n",
    "# # print(Y)\n",
    "\n",
    "# #beta = (AT . A)^-1 . AT . Y\n",
    "# beta = np.dot(np.dot(np.linalg.inv(np.dot(A.T, A)), A.T), Y)\n",
    "# # print(beta)\n",
    "\n",
    "# # y = mx + b\n",
    "# m = beta[0]\n",
    "# b = beta[1]\n",
    "# yRes = m * x + b\n",
    "# plt.figure(figsize=(12, 8))\n",
    "# plt.title(\"The Best Least Square Regression\")\n",
    "# plt.plot(x, y, 'go', label = \"(x, y) Point\")\n",
    "# plt.plot(x, yRes, 'b-', label = \"Least Square Regression\")\n",
    "# plt.legend()\n",
    "# plt.show()"
   ]
  },
  {
   "cell_type": "code",
   "execution_count": 79,
   "id": "cfa4e2f2",
   "metadata": {},
   "outputs": [],
   "source": [
    "# x2 = np.array(x2)\n",
    "# y2 = np.array(y2)\n",
    "\n",
    "# fLinear = interp1d(x2, y2)\n",
    "# x_soal = 4\n",
    "# y_soal = fLinear(x_soal)\n",
    "\n",
    "# plt.figure(figsize=(12, 8))\n",
    "# plt.title(\"Linear Interpolation\")\n",
    "# plt.plot(x2, y2, 'go-', label=\"(x, y) point\")\n",
    "# plt.plot(x_soal, y_soal, 'ro', label = \"answer\")\n",
    "# plt.legend(loc=0)\n",
    "# plt.show()"
   ]
  },
  {
   "cell_type": "code",
   "execution_count": 80,
   "id": "5733c9a3",
   "metadata": {},
   "outputs": [],
   "source": [
    "# fCubic = CubicSpline(x2, y2)\n",
    "\n",
    "# x_new = np.linspace(x2[0], x2[-1], 100)\n",
    "# y_new = fCubic(x_new)\n",
    "\n",
    "# plt.figure(figsize=(12,8))\n",
    "# plt.title(\"Cubci Spline\")\n",
    "# plt.plot(x_new, y_new, 'g.', label = \"cubic spline\")\n",
    "# plt.plot(x2, y2, 'ro', label = \"(x, y) point\")\n",
    "# plt.legend()\n",
    "# plt.show()"
   ]
  },
  {
   "cell_type": "code",
   "execution_count": 81,
   "id": "5a57a824",
   "metadata": {},
   "outputs": [],
   "source": [
    "# import numpy as np\n",
    "# from matplotlib import pyplot as plt\n",
    "# from scipy.interpolate import interp1d, CubicSpline"
   ]
  },
  {
   "cell_type": "code",
   "execution_count": 82,
   "id": "5de0a9c7",
   "metadata": {},
   "outputs": [],
   "source": [
    "# x = np.array(x)\n",
    "# y = np.array(y)\n",
    "\n",
    "# A = np.vstack([x, np.ones(len(y))]).T\n",
    "# Y = np.vstack(y)\n",
    "\n",
    "# beta = np.dot(np.dot(np.linalg.inv(np.dot(A.T, A)), A.T), Y)\n",
    "\n",
    "# m = beta[0]\n",
    "# b = beta[1]\n",
    "\n",
    "# y_result = m * x + b\n",
    "\n",
    "# plt.figure(figsize=(12,8))\n",
    "# plt.title(\"Least Square Regression\")\n",
    "# plt.plot(x, y, 'go', label = \"(x, y) point\")\n",
    "# plt.plot(x, y_result, 'b-', label = \"least square regression\")\n",
    "# plt.legend()\n",
    "# plt.show()"
   ]
  },
  {
   "cell_type": "code",
   "execution_count": 83,
   "id": "e30241c6",
   "metadata": {},
   "outputs": [],
   "source": [
    "# x2 = np.array(x2)\n",
    "# y2 = np.array(y2)\n",
    "\n",
    "# fLinear = interp1d(x2, y2)\n",
    "# x_ask = 4\n",
    "# y_ans = fLinear(x_ask)\n",
    "\n",
    "# plt.figure(figsize=(12,8))\n",
    "# plt.title(\"Linear Interpolation\")\n",
    "# plt.plot(x2, y2, 'go-')\n",
    "# plt.plot(x_ask, y_ans, 'ro')\n",
    "# plt.show()"
   ]
  },
  {
   "cell_type": "code",
   "execution_count": 84,
   "id": "461417b9",
   "metadata": {},
   "outputs": [],
   "source": [
    "# x2 = np.array(x2)\n",
    "# y2 = np.array(y2)\n",
    "\n",
    "# fCubic = CubicSpline(x2, y2, bc_type=\"natural\")\n",
    "# xCubic = np.linspace(x2[0], x2[-1], 100)\n",
    "# yCubic = fCubic(xCubic)\n",
    "\n",
    "# plt.figure(figsize=(12,8))\n",
    "# plt.title(\"Cubic Spline\")\n",
    "# plt.plot(xCubic, yCubic, 'g.')\n",
    "# plt.plot(x2, y2, 'ro')\n",
    "# plt.show()"
   ]
  },
  {
   "cell_type": "code",
   "execution_count": 85,
   "id": "e9c03705",
   "metadata": {},
   "outputs": [],
   "source": [
    "# import numpy as np\n",
    "# from matplotlib import pyplot as plt"
   ]
  },
  {
   "cell_type": "code",
   "execution_count": 86,
   "id": "0f96a3f6",
   "metadata": {},
   "outputs": [],
   "source": [
    "# x = np.array(x)\n",
    "# y = np.array(y)\n",
    "\n",
    "# A = np.vstack([x, np.ones(len(x))]).T\n",
    "# Y = np.vstack(y)\n",
    "\n",
    "# beta = np.dot(np.dot(np.linalg.inv(np.dot(A.T, A)), A.T), Y)\n",
    "\n",
    "# m = beta[0]\n",
    "# b = beta[1]\n",
    "\n",
    "# yResult = m * x + b\n",
    "\n",
    "# plt.figure(figsize=(12, 8))\n",
    "# plt.title(\"Least square regression\")\n",
    "# plt.plot(x, y, 'go', label = \"(x, y) points\")\n",
    "# plt.plot(x, yResult, 'b-', label = \"Least square regression\")\n",
    "# plt.show()"
   ]
  },
  {
   "cell_type": "code",
   "execution_count": 87,
   "id": "1d560e61",
   "metadata": {},
   "outputs": [],
   "source": [
    "# from scipy.interpolate import interp1d, CubicSpline"
   ]
  },
  {
   "cell_type": "code",
   "execution_count": 88,
   "id": "18f54f07",
   "metadata": {},
   "outputs": [],
   "source": [
    "# x2 = np.array(x2)\n",
    "# y2 = np.array(y2)\n",
    "\n",
    "# f = interp1d(x2, y2)\n",
    "# xNew = 4\n",
    "# yNew = f(xNew)\n",
    "\n",
    "# plt.figure(figsize=(12, 8))\n",
    "# plt.title(\"Linear Interpolation\")\n",
    "# plt.plot(x2, y2, 'go-')\n",
    "# plt.plot(xNew, yNew, 'ro')\n",
    "# plt.show()"
   ]
  },
  {
   "cell_type": "code",
   "execution_count": 90,
   "id": "09f3c85f",
   "metadata": {},
   "outputs": [],
   "source": [
    "# x2 = np.array(x2)\n",
    "# y2 = np.array(y2)\n",
    "\n",
    "# fCubic = CubicSpline(x2, y2)\n",
    "# xCubic = np.linspace(x2[0], x2[-1], 100)\n",
    "# yCubic = fCubic(xCubic)\n",
    "\n",
    "# plt.figure(figsize=(12, 8))\n",
    "# plt.title(\"Cubic Spline\")\n",
    "# plt.plot(xCubic, yCubic, 'g.')\n",
    "# plt.plot(x2, y2, 'ro')\n",
    "# plt.show()"
   ]
  },
  {
   "cell_type": "code",
   "execution_count": 92,
   "id": "992d4ec1",
   "metadata": {},
   "outputs": [],
   "source": [
    "import numpy as np\n",
    "from matplotlib import pyplot as plt"
   ]
  },
  {
   "cell_type": "code",
   "execution_count": 98,
   "id": "36ef8389",
   "metadata": {},
   "outputs": [
    {
     "data": {
      "image/png": "[encoded data removed]",
      "text/plain": [
       "<Figure size 1200x800 with 1 Axes>"
      ]
     },
     "metadata": {},
     "output_type": "display_data"
    }
   ],
   "source": [
    "x = np.array(x)\n",
    "y = np.array(y)\n",
    "\n",
    "A = np.vstack([x, np.ones(len(x))]).T\n",
    "Y = np.vstack(y)\n",
    "\n",
    "beta = np.dot(np.dot(np.linalg.inv(np.dot(A.T, A)), A.T), Y)\n",
    "\n",
    "m = beta[0]\n",
    "c = beta[1]\n",
    "\n",
    "yResult = m * x + c\n",
    "plt.figure(figsize=(12, 8))\n",
    "plt.title(\"Least Square Regression\")\n",
    "plt.plot(x, y, 'bo', label = \"(x, y) points\")\n",
    "plt.plot(x, yResult, 'g-', label = \"Least square regression\")\n",
    "plt.legend()\n",
    "plt.show()"
   ]
  },
  {
   "cell_type": "code",
   "execution_count": null,
   "id": "a15b7138",
   "metadata": {},
   "outputs": [],
   "source": []
  }
 ],
 "metadata": {
  "kernelspec": {
   "display_name": "Python 3 (ipykernel)",
   "language": "python",
   "name": "python3"
  },
  "language_info": {
   "codemirror_mode": {
    "name": "ipython",
    "version": 3
   },
   "file_extension": ".py",
   "mimetype": "text/x-python",
   "name": "python",
   "nbconvert_exporter": "python",
   "pygments_lexer": "ipython3",
   "version": "3.11.1"
  }
 },
 "nbformat": 4,
 "nbformat_minor": 5
}
