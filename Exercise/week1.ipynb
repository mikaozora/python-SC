{
 "cells": [
  {
   "cell_type": "code",
   "execution_count": 14,
   "id": "1159a0e1",
   "metadata": {},
   "outputs": [
    {
     "name": "stdout",
     "output_type": "stream",
     "text": [
      "Hello world\n",
      "a + b =  30\n",
      "namaku:  mika ozora\n",
      "status belum menikah\n",
      "status belum menikah\n"
     ]
    }
   ],
   "source": [
    "a, b = 10, 20\n",
    "c = a+b\n",
    "name = \"mika ozora\"\n",
    "state = status = \"belum menikah\"\n",
    "print(\"Hello world\")\n",
    "print(\"a + b = \", c)\n",
    "print(\"namaku: \", name)\n",
    "print(\"status\", state)\n",
    "print(\"status\", status)"
   ]
  },
  {
   "cell_type": "code",
   "execution_count": 23,
   "id": "6b757704",
   "metadata": {},
   "outputs": [
    {
     "name": "stdout",
     "output_type": "stream",
     "text": [
      "mikaozora\n",
      "nama: mika, lastname: ozora\n",
      "20.00\n"
     ]
    }
   ],
   "source": [
    "firstName = \"mika\"\n",
    "lastName = \"ozora\"\n",
    "age = 20\n",
    "print(firstName + lastName)\n",
    "print(f\"nama: {firstName}, lastname: {lastName}\")\n",
    "print(format(age, \".2f\"))"
   ]
  },
  {
   "cell_type": "code",
   "execution_count": 15,
   "id": "65b7b1e1",
   "metadata": {},
   "outputs": [
    {
     "name": "stdout",
     "output_type": "stream",
     "text": [
      "apel\n",
      "pisang\n",
      "semangka\n"
     ]
    }
   ],
   "source": [
    "fruits = [\"apel\", \"pisang\", \"semangka\"]\n",
    "a,b,c = fruits\n",
    "print(a)\n",
    "print(b)\n",
    "print(c)"
   ]
  },
  {
   "cell_type": "code",
   "execution_count": 19,
   "id": "c250a56c",
   "metadata": {},
   "outputs": [
    {
     "name": "stdout",
     "output_type": "stream",
     "text": [
      "aku hebat\n",
      "Hello main\n"
     ]
    }
   ],
   "source": [
    "x = \"hebat\"\n",
    "\n",
    "def newFunc():\n",
    "    print(\"aku\", x)\n",
    "\n",
    "newFunc()\n",
    "print(\"Hello main\")"
   ]
  },
  {
   "cell_type": "code",
   "execution_count": 62,
   "id": "6d143656",
   "metadata": {},
   "outputs": [
    {
     "name": "stdout",
     "output_type": "stream",
     "text": [
      "35\n"
     ]
    }
   ],
   "source": [
    "# random number\n",
    "import random\n",
    "\n",
    "print(random.randrange(1, 100)) # 1 - 100"
   ]
  },
  {
   "cell_type": "code",
   "execution_count": 66,
   "id": "a4d56587",
   "metadata": {},
   "outputs": [
    {
     "name": "stdout",
     "output_type": "stream",
     "text": [
      "2\n",
      "4.0\n"
     ]
    }
   ],
   "source": [
    "# casting\n",
    "x = 2.5\n",
    "gpa = 4.0\n",
    "print(int(x))\n",
    "print(str(gpa))"
   ]
  },
  {
   "cell_type": "code",
   "execution_count": 69,
   "id": "069953ec",
   "metadata": {},
   "outputs": [
    {
     "name": "stdout",
     "output_type": "stream",
     "text": [
      "Lorem ipsum dolor sit amet,\n",
      "consectetur adipiscing elit,\n",
      "sed do eiusmod tempor incididunt\n",
      "ut labore et dolore magna aliqua.\n"
     ]
    }
   ],
   "source": [
    "a = \"\"\"Lorem ipsum dolor sit amet,\n",
    "consectetur adipiscing elit,\n",
    "sed do eiusmod tempor incididunt\n",
    "ut labore et dolore magna aliqua.\"\"\"\n",
    "print(a)"
   ]
  },
  {
   "cell_type": "code",
   "execution_count": 83,
   "id": "b837d3ca",
   "metadata": {},
   "outputs": [
    {
     "name": "stdout",
     "output_type": "stream",
     "text": [
      "s\n",
      "e\n",
      "m\n",
      "a\n",
      "n\n",
      "g\n",
      "k\n",
      "a\n",
      "9\n",
      "True\n",
      "False\n",
      "hello\n",
      "world\n",
      "world\n",
      "HELLO WORLD\n"
     ]
    }
   ],
   "source": [
    "for x in \"semangka\":\n",
    "    print(x)\n",
    "\n",
    "print(len(\"mikaozora\"))\n",
    "print(\"ozora\" in \"mikaozora\")\n",
    "print(\"ozora\" not in \"mikaozora\")\n",
    "str = \"hello world\"\n",
    "print(str[:5]) # from start\n",
    "print(str[6:11]) # from index to goals-1\n",
    "print(str[6:]) # from index to end\n",
    "print(str.upper())"
   ]
  },
  {
   "cell_type": "code",
   "execution_count": 85,
   "id": "5b9b75f8",
   "metadata": {},
   "outputs": [
    {
     "name": "stdout",
     "output_type": "stream",
     "text": [
      "b larger\n"
     ]
    }
   ],
   "source": [
    "a = 10\n",
    "b = 20\n",
    "if a > b:\n",
    "    print(\"a larger\")\n",
    "elif a < b:\n",
    "    print(\"b larger\")\n",
    "else:\n",
    "    print(\"same\")"
   ]
  },
  {
   "cell_type": "code",
   "execution_count": 103,
   "id": "5e985c80",
   "metadata": {},
   "outputs": [
    {
     "name": "stdout",
     "output_type": "stream",
     "text": [
      "anjing\n",
      "kuda\n",
      "babi\n",
      "---------\n",
      "jerapah\n",
      "dugong\n",
      "jerapah\n",
      "['anjing', 'kuda', 'babi', 'dugong', 'jerapah', 'hiu', 'lumba-lumba', 'piranha']\n"
     ]
    }
   ],
   "source": [
    "# list or array\n",
    "animal = [\"anjing\", \"kuda\", \"babi\"]\n",
    "for i in animal:\n",
    "    print(i)\n",
    "print(\"---------\")\n",
    "animal.append(\"jerapah\")\n",
    "print(animal[3])\n",
    "animal.insert(3, \"dugong\")\n",
    "print(animal[3])\n",
    "print(animal[4])\n",
    "\n",
    "newAnimal = [\"hiu\", \"lumba-lumba\", \"piranha\"]\n",
    "animal.extend(newAnimal)\n",
    "print(animal)"
   ]
  },
  {
   "cell_type": "code",
   "execution_count": 99,
   "id": "de607cc9",
   "metadata": {},
   "outputs": [
    {
     "name": "stdout",
     "output_type": "stream",
     "text": [
      "10\n",
      "8\n",
      "6\n",
      "4\n",
      "2\n",
      "\n",
      "0\n",
      "1\n",
      "2\n",
      "3\n",
      "4\n",
      "5\n",
      "6\n",
      "7\n",
      "8\n",
      "9\n",
      "\n",
      "5\n",
      "4\n",
      "3\n",
      "2\n",
      "1\n"
     ]
    }
   ],
   "source": [
    "for i in range(10, 1, -2):\n",
    "    print(i)\n",
    "print()\n",
    "for i in range(0, 10):\n",
    "    print(i)\n",
    "\n",
    "print()\n",
    "a = 5\n",
    "while a:\n",
    "    print(a)\n",
    "    a -= 1"
   ]
  },
  {
   "cell_type": "code",
   "execution_count": 107,
   "id": "84856ef8",
   "metadata": {},
   "outputs": [
    {
     "name": "stdout",
     "output_type": "stream",
     "text": [
      "menghitung\n",
      "plus: 5\n",
      "multi: 6\n",
      "div: 0.6666666666666666\n",
      "power: 8\n"
     ]
    }
   ],
   "source": [
    "def kalkulator(a,b):\n",
    "    print(\"menghitung\")\n",
    "    pertambahan = a+b\n",
    "    return pertambahan, a*b, a/b, a**b\n",
    "\n",
    "plus, multi, div, power = kalkulator(2,3)\n",
    "print(f\"plus: {plus}\\nmulti: {multi}\\ndiv: {div}\\npower: {power}\")"
   ]
  },
  {
   "cell_type": "code",
   "execution_count": 114,
   "id": "a3385b95",
   "metadata": {},
   "outputs": [
    {
     "name": "stdout",
     "output_type": "stream",
     "text": [
      "[1, 2, 3, 4, 5, 6, 7, 8, 9]\n",
      "[[1, 2], [3, 4], [5, 6], [7, 8]]\n",
      "[[ 6  8]\n",
      " [10 12]]\n",
      "[[ 5 12]\n",
      " [21 32]]\n",
      "[[19 22]\n",
      " [43 50]]\n"
     ]
    }
   ],
   "source": [
    "# numpy\n",
    "import numpy as np\n",
    "\n",
    "listAngka = [1,2,3,4,5,6,7,8,9]\n",
    "\n",
    "print(listAngka)\n",
    "\n",
    "array1 = [[1,2], [3,4]]\n",
    "array2 = [[5,6], [7,8]]\n",
    "\n",
    "print(array1 + array2)\n",
    "\n",
    "matrix1 = np.array(array1)\n",
    "matrix2 = np.array(array2)\n",
    "\n",
    "print(matrix1 + matrix2)\n",
    "print(matrix1 * matrix2)\n",
    "print(np.dot(matrix1, matrix2))"
   ]
  }
 ],
 "metadata": {
  "kernelspec": {
   "display_name": "Python 3 (ipykernel)",
   "language": "python",
   "name": "python3"
  },
  "language_info": {
   "codemirror_mode": {
    "name": "ipython",
    "version": 3
   },
   "file_extension": ".py",
   "mimetype": "text/x-python",
   "name": "python",
   "nbconvert_exporter": "python",
   "pygments_lexer": "ipython3",
   "version": "3.11.1"
  }
 },
 "nbformat": 4,
 "nbformat_minor": 5
}
