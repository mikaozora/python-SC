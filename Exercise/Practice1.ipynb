{
 "cells": [
  {
   "cell_type": "code",
   "execution_count": 1,
   "id": "2703cd8d",
   "metadata": {},
   "outputs": [],
   "source": [
    "import numpy as np\n",
    "import matplotlib.pyplot as plt"
   ]
  },
  {
   "cell_type": "code",
   "execution_count": 2,
   "id": "5565d4f9",
   "metadata": {},
   "outputs": [],
   "source": [
    "mX = [\n",
    "        [\n",
    "            [10, 2, -6],\n",
    "            [-1, 4, 2],\n",
    "            [2, 3, 6]\n",
    "        ],\n",
    "        [\n",
    "            [-5, 2, -8],\n",
    "            [4, -3, -9],\n",
    "            [-8, -10, 9]\n",
    "        ],\n",
    "        [\n",
    "            [10, -5, 3, 0],\n",
    "            [3, -9, 2, -2],\n",
    "            [-8, 0, 17, -4],\n",
    "            [3, -3, -8, -15]\n",
    "        ],\n",
    "]\n",
    "\n",
    "mY = [\n",
    "    [17, -4, -12],\n",
    "    [13, -7, -2],\n",
    "    [9, 10, -10, -18]\n",
    "]\n"
   ]
  },
  {
   "cell_type": "code",
   "execution_count": 15,
   "id": "f11d3112",
   "metadata": {},
   "outputs": [
    {
     "name": "stdout",
     "output_type": "stream",
     "text": [
      "test\n",
      "[ 0.34010322  0.1875559  -2.20714569]\n",
      "test\n",
      "[ 0.22810089 -1.4116141  -0.10787767  1.58547776]\n"
     ]
    }
   ],
   "source": [
    "def checkDiagonally(x):\n",
    "    x = np.array(x)\n",
    "    diag = np.diag(np.abs(x))\n",
    "    off_diag = np.sum(np.abs(x), axis=1) - diag\n",
    "#     for i in range(len(x)):\n",
    "#         print(\"Diagonal\", i+1, \"=\", diag[i])\n",
    "#         print(\"Total Not Diagonal Value = \", end=\" \")\n",
    "#         sudahPrint = 0\n",
    "#         for j, el in enumerate(x[i]):\n",
    "#             if j != i:\n",
    "#                 if sudahPrint != 0:\n",
    "#                     print(\"+\", end=\" \")\n",
    "#                 print(f\"|{el}|\", end=\" \")\n",
    "#                 sudahPrint += 1\n",
    "#         print(f\"= {off_diag[i]}\")\n",
    "#         if(diag[i] >= off_diag[i]):\n",
    "#             print(diag[i], \">=\", off_diag[i])\n",
    "#         else:\n",
    "#             print(diag[i], \"<\", off_diag[i])\n",
    "#             print(\"The Equation is not Diagonally Dominant\")\n",
    "#             return False\n",
    "            \n",
    "    if np.all(diag > off_diag):\n",
    "#         print(\"This Equation is diagonally dominant!\")\n",
    "        return True\n",
    "    else:\n",
    "        return False\n",
    "    \n",
    "    \n",
    "def gaussSeidel(x, y, epsilon, max):\n",
    "    x = np.array(x)\n",
    "    y = np.array(y)\n",
    "    \n",
    "    diag = np.diag(x)\n",
    "    x = -x\n",
    "    np.fill_diagonal(x, 0)\n",
    "    xBefore = np.zeros(x.shape[0])\n",
    "    \n",
    "    for i in range(max):\n",
    "        xNew = np.array(xBefore)\n",
    "        for j, row in enumerate(x):\n",
    "            xNew[j] = (y[j] + np.dot(row, xNew)) / diag[j]\n",
    "        \n",
    "        #euclidean distance\n",
    "        distance = np.sqrt(np.dot(xNew - xBefore, xNew - xBefore))\n",
    "        \n",
    "        if distance < epsilon:\n",
    "            print(xNew)\n",
    "            return True\n",
    "        \n",
    "        xBefore = xNew\n",
    "    return False\n",
    "\n",
    "\n",
    "for i, (x, y) in enumerate(zip(mX, mY)):\n",
    "#     print(\"Equation \", i+1, \" Array X:\")\n",
    "#     checkDiagonally(x)\n",
    "#     print(\"------------------\")\n",
    "    if checkDiagonally(x):\n",
    "        print(\"test\")\n",
    "        gaussSeidel(x, y, 0.01456, 10)\n",
    "        \n",
    "    \n",
    "    "
   ]
  },
  {
   "cell_type": "code",
   "execution_count": 5,
   "id": "3eb3b9cf",
   "metadata": {},
   "outputs": [
    {
     "data": {
      "image/png": "[encoded data removed]",
      "text/plain": [
       "<Figure size 640x480 with 1 Axes>"
      ]
     },
     "metadata": {},
     "output_type": "display_data"
    }
   ],
   "source": [
    "lx = [1, 5, 7, 2, 3, 9, 10, 4, 6, 8]\n",
    "ly = [34, 51, 80, 25, 90, 76, 100, 11, 45, 62]\n",
    "\n",
    "lx = np.array(lx)\n",
    "ly = np.array(ly)\n",
    "\n",
    "A = np.vstack([lx, np.ones(len(ly))]).T #.T agar vertikal(transpose)\n",
    "Y = np.vstack(ly)\n",
    "\n",
    "#beta = (AT . A)^-1 . AT.Y \n",
    "beta = np.dot(np.dot(np.linalg.inv(np.dot(A.T, A)), A.T), Y)\n",
    "# [[ 6.13333333] --> m\n",
    "#  [23.66666667]] --> c\n",
    "# print(beta)\n",
    "m = beta[0]\n",
    "c = beta[1]\n",
    "\n",
    "#y = mx + c\n",
    "y = m*lx + c\n",
    "\n",
    "plt.plot(lx, ly, 'go')\n",
    "plt.plot(lx, y, 'b-')\n",
    "plt.show()"
   ]
  },
  {
   "cell_type": "code",
   "execution_count": 31,
   "id": "c5122fcc",
   "metadata": {},
   "outputs": [
    {
     "name": "stdout",
     "output_type": "stream",
     "text": [
      "Max iteration reach!\n",
      "0.6903195287760319\n"
     ]
    },
    {
     "data": {
      "text/plain": [
       "True"
      ]
     },
     "execution_count": 31,
     "metadata": {},
     "output_type": "execute_result"
    }
   ],
   "source": [
    "from sympy import *\n",
    "\n",
    "x = symbols('x') #redefine x, karena menumpuk x yang di atas\n",
    "f1 = lambda x: 7*x**4 - 3*x**2 + x\n",
    "df1 = diff(f1(x), x)\n",
    "df1 = lambdify(x, df1, 'numpy')\n",
    "\n",
    "f2 = lambda x: 8*x**6 + 5*x**4 - 2\n",
    "df2 = diff(f2(x), x)\n",
    "df2 = lambdify(x, df2, 'numpy')\n",
    "\n",
    "def newton_raphson(f, df, x0, tolerance, max):\n",
    "    if max == 0:\n",
    "        print(\"Max iteration reach!\")\n",
    "        return False\n",
    "    if np.abs(f(x0)) < tolerance:\n",
    "        print(x0)\n",
    "        return True\n",
    "    else:\n",
    "        xNew = x0 - (f(x0)/df(x0))\n",
    "        return newton_raphson(f, df, xNew, tolerance, max-1)\n",
    "    \n",
    "newton_raphson(f1, df1, 1, 0.006541, 5)\n",
    "newton_raphson(f2, df2, 1, 0.006541, 5)"
   ]
  },
  {
   "cell_type": "code",
   "execution_count": 3,
   "id": "a8b06dc6",
   "metadata": {},
   "outputs": [
    {
     "name": "stdout",
     "output_type": "stream",
     "text": [
      "0.2413793103448276\n",
      "Left Riemann:  645.1387652149571\n",
      "Right Riemann:  530.2422134908192\n",
      "Mid Riemann:  580.4556464297783\n",
      "Trapezoid:  587.690489352888\n"
     ]
    }
   ],
   "source": [
    "import numpy as np\n",
    "\n",
    "def f(x):\n",
    "    return 3*x**4 -7*x**2 + 5\n",
    "\n",
    "a = -4\n",
    "b = 3\n",
    "n = 30\n",
    "\n",
    "boxWidth = (b-a)/(n-1)\n",
    "print(boxWidth)\n",
    "\n",
    "x = np.linspace(a, b, n)\n",
    "# print(x)\n",
    "\n",
    "# left riemann\n",
    "xLeft = x[ :-1]\n",
    "# print(xLeft)\n",
    "\n",
    "yLeft = f(xLeft)\n",
    "# print(yLeft)\n",
    "\n",
    "\n",
    "leftRiemann = boxWidth * np.sum(np.abs(yLeft))\n",
    "print(\"Left Riemann: \", leftRiemann)\n",
    "\n",
    "#right riemann\n",
    "xRight = x[1:]\n",
    "# print(xRight)\n",
    "yRight = f(xRight)\n",
    "\n",
    "rightRiemann = boxWidth * np.sum(np.abs(yRight))\n",
    "print(\"Right Riemann: \", rightRiemann)\n",
    "\n",
    "\n",
    "#mid riemann\n",
    "xMid = (xLeft + xRight)/2\n",
    "# print(xMid)\n",
    "\n",
    "yMid = f(xMid)\n",
    "midRiemann = boxWidth * np.sum(np.abs(yMid))\n",
    "print(\"Mid Riemann: \", midRiemann)\n",
    "\n",
    "#trapezoid\n",
    "trapezoid = np.sum(np.abs((yLeft + yRight)/2)) * boxWidth\n",
    "print(\"Trapezoid: \", trapezoid)"
   ]
  }
 ],
 "metadata": {
  "kernelspec": {
   "display_name": "Python 3 (ipykernel)",
   "language": "python",
   "name": "python3"
  },
  "language_info": {
   "codemirror_mode": {
    "name": "ipython",
    "version": 3
   },
   "file_extension": ".py",
   "mimetype": "text/x-python",
   "name": "python",
   "nbconvert_exporter": "python",
   "pygments_lexer": "ipython3",
   "version": "3.11.1"
  }
 },
 "nbformat": 4,
 "nbformat_minor": 5
}
