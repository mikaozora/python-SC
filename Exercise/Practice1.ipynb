{
 "cells": [
  {
   "cell_type": "code",
   "execution_count": 3,
   "id": "2703cd8d",
   "metadata": {},
   "outputs": [],
   "source": [
    "import numpy as np"
   ]
  },
  {
   "cell_type": "code",
   "execution_count": 10,
   "id": "5565d4f9",
   "metadata": {},
   "outputs": [],
   "source": [
    "mX = [\n",
    "        [\n",
    "            [10, 2, -6],\n",
    "            [-1, 4, 2],\n",
    "            [2, 3, 6]\n",
    "        ],\n",
    "        [\n",
    "            [-5, 2, -8],\n",
    "            [4, -3, -9],\n",
    "            [-8, -10, 9]\n",
    "        ],\n",
    "        [\n",
    "            [10, -5, 3, 0],\n",
    "            [3, -9, 2, -2],\n",
    "            [-8, 0, 17, -4],\n",
    "            [3, -3, -8, -15]\n",
    "        ],\n",
    "]\n",
    "\n",
    "mY = [\n",
    "    [17, -4, -12],\n",
    "    [13, -7, -2],\n",
    "    [9, 10, -10, -18]\n",
    "]\n"
   ]
  },
  {
   "cell_type": "code",
   "execution_count": 57,
   "id": "f11d3112",
   "metadata": {},
   "outputs": [
    {
     "name": "stdout",
     "output_type": "stream",
     "text": [
      "Equation  1  Array X:\n",
      "Diagonal 1 = 10\n",
      "Total Not Diagonal Value =  |2| + |-6| = 8\n",
      "10 >= 8\n",
      "Diagonal 2 = 4\n",
      "Total Not Diagonal Value =  |-1| + |2| = 3\n",
      "4 >= 3\n",
      "Diagonal 3 = 6\n",
      "Total Not Diagonal Value =  |2| + |3| = 5\n",
      "6 >= 5\n",
      "This Equation is diagonally dominant!\n",
      "------------------\n",
      "Equation  2  Array X:\n",
      "Diagonal 1 = 5\n",
      "Total Not Diagonal Value =  |2| + |-8| = 10\n",
      "5 < 10\n",
      "The Equation is not Diagonally Dominant\n",
      "------------------\n",
      "Equation  3  Array X:\n",
      "Diagonal 1 = 10\n",
      "Total Not Diagonal Value =  |-5| + |3| + |0| = 8\n",
      "10 >= 8\n",
      "Diagonal 2 = 9\n",
      "Total Not Diagonal Value =  |3| + |2| + |-2| = 7\n",
      "9 >= 7\n",
      "Diagonal 3 = 17\n",
      "Total Not Diagonal Value =  |-8| + |0| + |-4| = 12\n",
      "17 >= 12\n",
      "Diagonal 4 = 15\n",
      "Total Not Diagonal Value =  |3| + |-3| + |-8| = 14\n",
      "15 >= 14\n",
      "This Equation is diagonally dominant!\n",
      "------------------\n"
     ]
    }
   ],
   "source": [
    "def checkDiagonally(x):\n",
    "    x = np.array(x)\n",
    "    diag = np.diag(np.abs(x))\n",
    "    off_diag = np.sum(np.abs(x), axis=1) - diag\n",
    "    for i in range(len(x)):\n",
    "        print(\"Diagonal\", i+1, \"=\", diag[i])\n",
    "        print(\"Total Not Diagonal Value = \", end=\" \")\n",
    "        sudahPrint = 0\n",
    "        for j, el in enumerate(x[i]):\n",
    "            if j != i:\n",
    "                if sudahPrint != 0:\n",
    "                    print(\"+\", end=\" \")\n",
    "                print(f\"|{el}|\", end=\" \")\n",
    "                sudahPrint += 1\n",
    "        print(f\"= {off_diag[i]}\")\n",
    "        if(diag[i] >= off_diag[i]):\n",
    "            print(diag[i], \">=\", off_diag[i])\n",
    "        else:\n",
    "            print(diag[i], \"<\", off_diag[i])\n",
    "            print(\"The Equation is not Diagonally Dominant\")\n",
    "            return\n",
    "            \n",
    "    if np.all(diag > off_diag):\n",
    "        print(\"This Equation is diagonally dominant!\")\n",
    "    \n",
    "\n",
    "for i, x in enumerate(mX):\n",
    "    print(\"Equation \", i+1, \" Array X:\")\n",
    "    checkDiagonally(x)\n",
    "    print(\"------------------\")\n",
    "    \n",
    "    "
   ]
  }
 ],
 "metadata": {
  "kernelspec": {
   "display_name": "Python 3 (ipykernel)",
   "language": "python",
   "name": "python3"
  },
  "language_info": {
   "codemirror_mode": {
    "name": "ipython",
    "version": 3
   },
   "file_extension": ".py",
   "mimetype": "text/x-python",
   "name": "python",
   "nbconvert_exporter": "python",
   "pygments_lexer": "ipython3",
   "version": "3.11.1"
  }
 },
 "nbformat": 4,
 "nbformat_minor": 5
}
