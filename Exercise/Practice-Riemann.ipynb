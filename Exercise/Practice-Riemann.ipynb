{
 "cells": [
  {
   "cell_type": "code",
   "execution_count": 2,
   "id": "01cd11c9",
   "metadata": {},
   "outputs": [],
   "source": [
    "import numpy as np"
   ]
  },
  {
   "cell_type": "code",
   "execution_count": 13,
   "id": "c4549d53",
   "metadata": {},
   "outputs": [
    {
     "name": "stdout",
     "output_type": "stream",
     "text": [
      "0.2413793103448276\n",
      "Left riemann: 645.1387652149571\n",
      "Right riemann: 530.2422134908192\n",
      "Mid riemann: 580.4556464297783\n",
      "Trapezoid: 587.690489352888\n"
     ]
    }
   ],
   "source": [
    "f = lambda x: 3*x**4 - 7*x**2 + 5\n",
    "\n",
    "a = -4\n",
    "b = 3\n",
    "n = 30\n",
    "\n",
    "#left riemann\n",
    "boxWidth = (b-a)/(n-1)\n",
    "print(boxWidth)\n",
    "\n",
    "x = np.linspace(a, b, n)\n",
    "\n",
    "xLeft = x[ :-1]\n",
    "yLeft = f(xLeft)\n",
    "\n",
    "leftRiemann = boxWidth * np.sum(np.abs(yLeft))\n",
    "print(f\"Left riemann: {leftRiemann}\")\n",
    "\n",
    "#right riemann\n",
    "xRight = x[1: ]\n",
    "yRight = f(xRight)\n",
    "\n",
    "rightRiemann = boxWidth * np.sum(np.abs(yRight))\n",
    "print(f\"Right riemann: {rightRiemann}\")\n",
    "\n",
    "#mid riemann\n",
    "xMid = (xLeft + xRight)/2\n",
    "yMid = f(xMid)\n",
    "\n",
    "midRiemann = boxWidth * np.sum(np.abs(yMid))\n",
    "print(f\"Mid riemann: {midRiemann}\")\n",
    "\n",
    "#trapezoid\n",
    "trapezoid = boxWidth * np.sum(np.abs((yLeft+yRight)/2))\n",
    "print(f\"Trapezoid: {trapezoid}\")"
   ]
  }
 ],
 "metadata": {
  "kernelspec": {
   "display_name": "Python 3 (ipykernel)",
   "language": "python",
   "name": "python3"
  },
  "language_info": {
   "codemirror_mode": {
    "name": "ipython",
    "version": 3
   },
   "file_extension": ".py",
   "mimetype": "text/x-python",
   "name": "python",
   "nbconvert_exporter": "python",
   "pygments_lexer": "ipython3",
   "version": "3.11.1"
  }
 },
 "nbformat": 4,
 "nbformat_minor": 5
}
