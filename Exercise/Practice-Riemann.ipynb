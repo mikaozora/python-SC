{
 "cells": [
  {
   "cell_type": "code",
   "execution_count": 42,
   "id": "da4f8ee7",
   "metadata": {},
   "outputs": [],
   "source": [
    "# import numpy as np"
   ]
  },
  {
   "cell_type": "code",
   "execution_count": 43,
   "id": "93e4d5c3",
   "metadata": {},
   "outputs": [],
   "source": [
    "# f = lambda x: 3*x**4 - 7*x**2 + 5\n",
    "\n",
    "# a = -4\n",
    "# b = 3\n",
    "# n = 30\n",
    "\n",
    "# #left riemann\n",
    "# boxWidth = (b-a)/(n-1)\n",
    "# print(boxWidth)\n",
    "\n",
    "# x = np.linspace(a, b, n)\n",
    "\n",
    "# xLeft = x[ :-1]\n",
    "# yLeft = f(xLeft)\n",
    "\n",
    "# leftRiemann = boxWidth * np.sum(np.abs(yLeft))\n",
    "# print(f\"Left riemann: {leftRiemann}\")\n",
    "\n",
    "# #right riemann\n",
    "# xRight = x[1: ]\n",
    "# yRight = f(xRight)\n",
    "\n",
    "# rightRiemann = boxWidth * np.sum(np.abs(yRight))\n",
    "# print(f\"Right riemann: {rightRiemann}\")\n",
    "\n",
    "# #mid riemann\n",
    "# xMid = (xLeft + xRight)/2\n",
    "# yMid = f(xMid)\n",
    "\n",
    "# midRiemann = boxWidth * np.sum(np.abs(yMid))\n",
    "# print(f\"Mid riemann: {midRiemann}\")\n",
    "\n",
    "# #trapezoid\n",
    "# trapezoid = boxWidth * np.sum(np.abs((yLeft+yRight)/2))\n",
    "# print(f\"Trapezoid: {trapezoid}\")"
   ]
  },
  {
   "cell_type": "code",
   "execution_count": 44,
   "id": "127b43d9",
   "metadata": {},
   "outputs": [],
   "source": [
    "# import numpy as np"
   ]
  },
  {
   "cell_type": "code",
   "execution_count": 45,
   "id": "7bd080b4",
   "metadata": {},
   "outputs": [],
   "source": [
    "# f = lambda x: 3*x**4 - 7*x**2 + 5\n",
    "\n",
    "# a = -4\n",
    "# b = 3\n",
    "# n = 30\n",
    "\n",
    "# boxWidth = (b-a)/(n-1)\n",
    "# x = np.linspace(a, b, n)\n",
    "\n",
    "# xLeft = x[ :-1]\n",
    "# yLeft = f(xLeft)\n",
    "\n",
    "# leftRiemann = boxWidth * np.sum(np.abs(yLeft))\n",
    "# print(f\"Left riemann: {leftRiemann}\")\n",
    "\n",
    "# xRight = x[1: ]\n",
    "# yRIght = f(xRight)\n",
    "\n",
    "# rightRiemann = boxWidth * np.sum(np.abs(yRight))\n",
    "# print(f\"Right riemann: {rightRiemann}\")\n",
    "\n",
    "# xMid = (xLeft + xRight) / 2\n",
    "# yMid = f(xMid)\n",
    "\n",
    "# midRiemann = boxWidth * np.sum(np.abs(yMid))\n",
    "# print(f\"mid riemann: {midRiemann}\")\n",
    "\n",
    "# trapezoid = boxWidth * np.sum(np.abs((yLeft + yRIght)/2))\n",
    "# print(f\"Trapezoid: {trapezoid}\")"
   ]
  },
  {
   "cell_type": "code",
   "execution_count": 46,
   "id": "e42fb7fb",
   "metadata": {},
   "outputs": [],
   "source": [
    "import numpy as np"
   ]
  },
  {
   "cell_type": "code",
   "execution_count": 47,
   "id": "4b2a381f",
   "metadata": {},
   "outputs": [
    {
     "name": "stdout",
     "output_type": "stream",
     "text": [
      "Left Riemann: 645.1387652149571\n",
      "Right Riemann: 530.2422134908192\n",
      "Mid Riemann: 580.4556464297783\n",
      "Trapezoid: 587.6904893528881\n"
     ]
    }
   ],
   "source": [
    "f = lambda x: 3*x**4 - 7*x**2 + 5\n",
    "\n",
    "a = -4\n",
    "b = 3\n",
    "n = 30\n",
    "\n",
    "boxWidth = (b-a)/(n-1)\n",
    "x = np.linspace(a, b, n)\n",
    "\n",
    "xLeft = x[ :-1]\n",
    "yLeft = f(xLeft)\n",
    "leftRiemann = boxWidth * np.sum(np.abs(yLeft))\n",
    "print(f\"Left Riemann: {leftRiemann}\")\n",
    "\n",
    "xRight = x[1:]\n",
    "yRight = f(xRight)\n",
    "rightRiemann = boxWidth * np.sum(np.abs(yRIght))\n",
    "print(f\"Right Riemann: {rightRiemann}\")\n",
    "\n",
    "xMid = (xLeft + xRight)/2\n",
    "yMid = f(xMid)\n",
    "midRiemann = boxWidth * np.sum(np.abs(yMid))\n",
    "print(f\"Mid Riemann: {midRiemann}\")\n",
    "\n",
    "trapezoid = (leftRiemann + rightRiemann)/2\n",
    "print(f\"Trapezoid: {trapezoid}\")"
   ]
  }
 ],
 "metadata": {
  "kernelspec": {
   "display_name": "Python 3 (ipykernel)",
   "language": "python",
   "name": "python3"
  },
  "language_info": {
   "codemirror_mode": {
    "name": "ipython",
    "version": 3
   },
   "file_extension": ".py",
   "mimetype": "text/x-python",
   "name": "python",
   "nbconvert_exporter": "python",
   "pygments_lexer": "ipython3",
   "version": "3.11.1"
  }
 },
 "nbformat": 4,
 "nbformat_minor": 5
}
