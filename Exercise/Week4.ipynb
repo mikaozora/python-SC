{
 "cells": [
  {
   "cell_type": "code",
   "execution_count": 21,
   "id": "f5921327",
   "metadata": {},
   "outputs": [
    {
     "name": "stdout",
     "output_type": "stream",
     "text": [
      "a: -4\n",
      "f(a): -37.210000000000008\n",
      "b: 0\n",
      "f(b): 13.230000000000000\n",
      "mid: -2.0\n",
      "f(mid): 16.809999999999999\n",
      "-----\n",
      "a: -4\n",
      "f(a): -37.210000000000008\n",
      "b: -2.0\n",
      "f(b): 16.809999999999999\n",
      "mid: -3.0\n",
      "f(mid): 0.000000000000004\n",
      "-----\n",
      "root:  -3.0\n"
     ]
    }
   ],
   "source": [
    "import numpy as np\n",
    "\n",
    "def bisection(f, a, b, tolerance):\n",
    "    #apakah tanda dari f(a) = tanda dari f(b)\n",
    "    #np.sign() get sign. -1, 0, 1\n",
    "    if(np.sign(f(a)) == np.sign(f(b))):\n",
    "        print(\"No answer\")\n",
    "        return\n",
    "    mid = (a+b)/2\n",
    "    print(\"a:\", a)\n",
    "    print('f(a): {0:.15f}'.format(f(a)))\n",
    "    print(\"b:\", b)\n",
    "    print('f(b): {0:.15f}'.format(f(b)))\n",
    "    print(\"mid:\", mid)\n",
    "    print('f(mid): {0:.15f}'.format(f(mid)))\n",
    "    print(\"-----\")\n",
    "    if np.abs(f(mid)) < tolerance:\n",
    "        return mid\n",
    "    elif np.sign(f(mid)) == np.sign(f(a)):\n",
    "        return bisection(f, mid, b, tolerance)\n",
    "    elif np.sign(f(mid)) == np.sign(f(b)):\n",
    "        return bisection(f, a, mid, tolerance)\n",
    "\n",
    "f = lambda x : x**3 - 1.2*x**2 - 8.19*x + 13.23\n",
    "a = -4\n",
    "b = 0\n",
    "tolerance = 0.0001\n",
    "result = bisection(f, a, b, tolerance)\n",
    "print(\"root: \", result)\n",
    "        "
   ]
  },
  {
   "cell_type": "code",
   "execution_count": 12,
   "id": "28e1caeb",
   "metadata": {},
   "outputs": [
    {
     "name": "stdout",
     "output_type": "stream",
     "text": [
      "2.050505050505051\n",
      "2.075374384991517\n",
      "2.0877171358860087\n",
      "2.0938659902840113\n",
      "2.0969348428910464\n",
      "root 2.0969348428910464\n"
     ]
    }
   ],
   "source": [
    "def newtonRaphson(f, df, x0, tolerance, max):\n",
    "    if max <= 0:\n",
    "        print(\"no answer\")\n",
    "        return\n",
    "    if np.abs(f(x0)) < tolerance:\n",
    "        return x0\n",
    "    else:\n",
    "        x1 = x0 - (f(x0) / df(x0))\n",
    "        print(x1)\n",
    "        return newtonRaphson(f, df, x1, tolerance, max-1)\n",
    "\n",
    "f = lambda x : x**3 - 1.2*x**2 - 8.19*x + 13.23\n",
    "df = lambda x : 3*x**2 - 2.4*x - 8.19\n",
    "x0 = 2\n",
    "tolerance = 0.0001\n",
    "max = 7\n",
    "result = newtonRaphson(f, df, x0, tolerance, max)\n",
    "print(\"root\", result)"
   ]
  }
 ],
 "metadata": {
  "kernelspec": {
   "display_name": "Python 3 (ipykernel)",
   "language": "python",
   "name": "python3"
  },
  "language_info": {
   "codemirror_mode": {
    "name": "ipython",
    "version": 3
   },
   "file_extension": ".py",
   "mimetype": "text/x-python",
   "name": "python",
   "nbconvert_exporter": "python",
   "pygments_lexer": "ipython3",
   "version": "3.11.1"
  }
 },
 "nbformat": 4,
 "nbformat_minor": 5
}
