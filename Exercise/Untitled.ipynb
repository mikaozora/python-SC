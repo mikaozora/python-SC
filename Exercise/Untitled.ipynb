{
 "cells": [
  {
   "cell_type": "code",
   "execution_count": 26,
   "id": "62c004cd",
   "metadata": {},
   "outputs": [],
   "source": [
    "## module householder\n",
    "# d,c = householder(a).\n",
    "# Householder similarity transformation of matrix [a] to\n",
    "# tridiagonal form.\n",
    "# p = computeP(a).\n",
    "# Computes the acccumulated transformation matrix [p]\n",
    "# after calling householder(a).\n",
    "\n",
    "\n",
    "import numpy as np\n",
    "import math\n",
    "def householder(a):\n",
    "    n = len(a)\n",
    "    for k in range(n-2):\n",
    "        u = a[k+1:n,k]\n",
    "        uMag = math.sqrt(np.dot(u,u))\n",
    "        if u[0] < 0.0: uMag = -uMag  \n",
    "        u[0] = u[0] + uMag\n",
    "        h = np.dot(u,u)/2.0\n",
    "        v = np.dot(a[k+1:n,k+1:n],u)/h\n",
    "        g = np.dot(u,v)/(2.0*h)\n",
    "        v = v - g*u\n",
    "        a[k+1:n,k+1:n] = a[k+1:n,k+1:n] - np.outer(v,u) - np.outer(u,v)\n",
    "        a[k,k+1] = -uMag\n",
    "    return np.diagonal(a),np.diagonal(a,1)\n",
    "def computeP(a):\n",
    "    n = len(a)\n",
    "    p = np.identity(n)*1.0\n",
    "    for k in range(n-2):\n",
    "        u = a[k+1:n,k]\n",
    "        h = np.dot(u,u)/2.0\n",
    "        v = np.dot(p[1:n,k+1:n],u)/h\n",
    "        p[1:n,k+1:n] = p[1:n,k+1:n] - np.outer(v,u)\n",
    "    return p\n"
   ]
  },
  {
   "cell_type": "code",
   "execution_count": null,
   "id": "1d8d7e7b",
   "metadata": {},
   "outputs": [],
   "source": []
  },
  {
   "cell_type": "code",
   "execution_count": 27,
   "id": "cf71a13f",
   "metadata": {},
   "outputs": [
    {
     "name": "stdout",
     "output_type": "stream",
     "text": [
      "Principal diagonal {d}:\n",
      " [4.         6.66666667 2.93333333 2.4       ]\n",
      "\n",
      "Subdiagonal {c}:\n",
      " [ 2.44948974 -1.74801475  0.73484692]\n",
      "\n",
      "Transformation matrix [P]:\n"
     ]
    }
   ],
   "source": [
    "a = np.array([[ 4.0, -2.0, 1.0, -1.0], \\\n",
    "            [ -2.0, 4.0, -2.0, 1.0], \\\n",
    "            [ 1.0, -2.0, 4.0, -2.0], \\\n",
    "            [-1.0, 1.0, -2.0, 4.0]])\n",
    "d,c = householder(a)\n",
    "print(\"Principal diagonal {d}:\\n\", d)\n",
    "print(\"\\nSubdiagonal {c}:\\n\",c)\n",
    "print(\"\\nTransformation matrix [P]:\")\n",
    "# print(computeP(a))"
   ]
  },
  {
   "cell_type": "code",
   "execution_count": null,
   "id": "6ce967fa",
   "metadata": {},
   "outputs": [],
   "source": []
  },
  {
   "cell_type": "code",
   "execution_count": null,
   "id": "85e9d323",
   "metadata": {},
   "outputs": [],
   "source": []
  },
  {
   "cell_type": "code",
   "execution_count": null,
   "id": "64ef28fd",
   "metadata": {},
   "outputs": [],
   "source": []
  },
  {
   "cell_type": "code",
   "execution_count": null,
   "id": "eeeccdf3",
   "metadata": {},
   "outputs": [],
   "source": []
  },
  {
   "cell_type": "code",
   "execution_count": null,
   "id": "154c6d78",
   "metadata": {},
   "outputs": [],
   "source": []
  },
  {
   "cell_type": "code",
   "execution_count": null,
   "id": "bf54ac3b",
   "metadata": {},
   "outputs": [],
   "source": []
  }
 ],
 "metadata": {
  "kernelspec": {
   "display_name": "Python 3 (ipykernel)",
   "language": "python",
   "name": "python3"
  },
  "language_info": {
   "codemirror_mode": {
    "name": "ipython",
    "version": 3
   },
   "file_extension": ".py",
   "mimetype": "text/x-python",
   "name": "python",
   "nbconvert_exporter": "python",
   "pygments_lexer": "ipython3",
   "version": "3.11.1"
  }
 },
 "nbformat": 4,
 "nbformat_minor": 5
}
