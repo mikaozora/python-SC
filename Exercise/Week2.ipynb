{
 "cells": [
  {
   "cell_type": "code",
   "execution_count": 3,
   "id": "8af965c7",
   "metadata": {},
   "outputs": [
    {
     "name": "stdout",
     "output_type": "stream",
     "text": [
      "[ 6  7 15]\n",
      "[ 5  5 12]\n",
      "Matrix is diagonally dominant\n"
     ]
    }
   ],
   "source": [
    "import numpy as np\n",
    "\n",
    "#step check diagonally dominant\n",
    "arr = [[6,3,2], [2,7,3], [7,5,15]]\n",
    "\n",
    "a1 = arr[0][0]\n",
    "b1 = arr[0][1]\n",
    "c1 = arr[0][2]\n",
    "a2 = arr[1][0]\n",
    "b2 = arr[1][1]\n",
    "c2 = arr[1][2]\n",
    "a3 = arr[2][0]\n",
    "b3 = arr[2][1]\n",
    "c3 = arr[2][2]\n",
    "\n",
    "diag = np.diag(np.abs(arr))\n",
    "\n",
    "print(diag);\n",
    "\n",
    "off_diag = np.sum(np.abs(arr), axis=1) - diag\n",
    "\n",
    "print(off_diag)\n",
    "\n",
    "if np.all(diag > off_diag):\n",
    "    print(\"Matrix is diagonally dominant\")\n",
    "else:\n",
    "    print(\"not diagonally dominant\")\n",
    "    \n",
    "def checkDiagonallyDominant(a):\n",
    "    diag = np.diag(np.abs(a))\n",
    "    off_diag = np.sum(np.abs(a), axis=1) - diag\n",
    "    if np.all(diag > off_diag):\n",
    "        return True\n",
    "    else:\n",
    "        return False"
   ]
  },
  {
   "cell_type": "code",
   "execution_count": null,
   "id": "069d9730",
   "metadata": {},
   "outputs": [],
   "source": []
  },
  {
   "cell_type": "code",
   "execution_count": 4,
   "id": "522378b4",
   "metadata": {},
   "outputs": [
    {
     "name": "stdout",
     "output_type": "stream",
     "text": [
      "iteration result\n",
      " k,     x1,     x2,    x3  \n",
      "1. 2.50000, 0.14286. -0.41429\n",
      "2. 2.56667, 0.30136. -0.49823\n",
      "3. 2.51540, 0.35199. -0.49118\n",
      "converged\n"
     ]
    }
   ],
   "source": [
    "x1 = 0\n",
    "x2 = 0\n",
    "x3 = 0\n",
    "resEq1 = 15\n",
    "resEq2 = 6\n",
    "resEq3 = 12\n",
    "\n",
    "epsilon = 0.1\n",
    "converged = False\n",
    "limit = 15\n",
    "\n",
    "x_old = np.array([x1,x2,x3])\n",
    "print(\"iteration result\")\n",
    "print(\" k,     x1,     x2,    x3  \")\n",
    "for k in range(1, 50):\n",
    "    x1 = (resEq1 - b1*x2 - c1*x3) / a1\n",
    "    x2 = (resEq2 - a2*x1 - c2*x3) / b2\n",
    "    x3 = (resEq3 - a3*x1 - b3*x2) / c3\n",
    "    x = np.array([x1,x2,x3])\n",
    "    \n",
    "    dx = np.sqrt(np.dot(x-x_old, x-x_old))\n",
    "    \n",
    "    print(\"%d. %.5f, %.5f. %.5f\"%(k, x1, x2, x3))\n",
    "    if dx < epsilon:\n",
    "        converged = True\n",
    "        print(\"converged\")\n",
    "        break\n",
    "    \n",
    "    x_old = x;\n",
    "\n",
    "if not converged:\n",
    "    print(\"not converged, increse the # of iteration\")"
   ]
  },
  {
   "cell_type": "code",
   "execution_count": 5,
   "id": "b95261e1",
   "metadata": {},
   "outputs": [],
   "source": [
    "caseX = [\n",
    "  [\n",
    "    [-3,9,-6],\n",
    "    [7,-2,-3],\n",
    "    [4,1,-4]\n",
    "  ],\n",
    "  [\n",
    "    [1, 3, -3, 9],\n",
    "    [2, -9,3, -3],\n",
    "    [-1, 3, 15, -1],\n",
    "   [21, 4, -1, 10]\n",
    "  ],\n",
    "  [\n",
    "    [4,2,-1],\n",
    "    [1,3,-1],\n",
    "    [5,2,10]\n",
    "  ],\n",
    "  [\n",
    "    [-7,2,-4],\n",
    "    [-1,-19,-13],\n",
    "    [-3,3,-19]\n",
    "  ],\n",
    "  [\n",
    "    [-12, 1, -4, 6],\n",
    "    [-3, 8,-3, 2],\n",
    "    [3, 3, 10, -3],\n",
    "    [3, -2, 3, 12]\n",
    "  ],\n",
    "  [\n",
    "    [2,1,-1],\n",
    "    [-2,5,-3],\n",
    "    [-1,-6,-9]\n",
    "  ]\n",
    "]\n",
    "caseY=[\n",
    "   [0, -6, 5],\n",
    "   [12, 9, -6, 11],\n",
    "   [19, 12, 5],\n",
    "   [8, 3, 5],\n",
    "   [3, 6, 9, 21],\n",
    "   [3, 9, 12]\n",
    "]"
   ]
  },
  {
   "cell_type": "code",
   "execution_count": 6,
   "id": "6e462994",
   "metadata": {},
   "outputs": [],
   "source": [
    "def gaussSeidel(x, y, epsilon, limit):\n",
    "    print(x)\n",
    "    x = np.array(x)\n",
    "    y = np.array(y)\n",
    "    \n",
    "    diag = np.diag(np.abs(x))\n",
    "\n",
    "    off_diag = np.sum(np.abs(x), axis=1) - diag\n",
    "\n",
    "    if np.all(diag > off_diag):\n",
    "        print(\"Matrix is diagonally dominant\")\n",
    "    else:\n",
    "        print(\"not diagonally dominant\")\n",
    "        \n",
    "    x = -x\n",
    "    diagonal = np.diag(x)\n",
    "    np.fill_diagonal(x, 0)\n",
    "    oldValue = np.zeros(x.shape[0])\n",
    "    \n",
    "    for i in range(limit):\n",
    "        newValue = oldValue\n",
    "        for j, row in enumerate(x):\n",
    "            newValue[j] = (y[j] + np.dot(row, newValue))/diagonal[j]\n",
    "            \n",
    "        newValue = np.array(newValue)\n",
    "        \n",
    "        distance = np.sqrt(np.dot(newValue-oldValue, newValue-oldValue))\n",
    "        \n",
    "        if distance < epsilon:\n",
    "            print(\"solution round\")\n",
    "            return True\n",
    "        oldValue = newValue\n",
    "    return False"
   ]
  },
  {
   "cell_type": "code",
   "execution_count": 7,
   "id": "49a765b3",
   "metadata": {},
   "outputs": [
    {
     "name": "stdout",
     "output_type": "stream",
     "text": [
      "[[-3, 9, -6], [7, -2, -3], [4, 1, -4]]\n",
      "not diagonally dominant\n",
      "no solution\n",
      "[[1, 3, -3, 9], [2, -9, 3, -3], [-1, 3, 15, -1], [21, 4, -1, 10]]\n",
      "not diagonally dominant\n",
      "no solution\n",
      "[[4, 2, -1], [1, 3, -1], [5, 2, 10]]\n",
      "Matrix is diagonally dominant\n",
      "no solution\n",
      "[[-7, 2, -4], [-1, -19, -13], [-3, 3, -19]]\n",
      "Matrix is diagonally dominant\n",
      "no solution\n",
      "[[-12, 1, -4, 6], [-3, 8, -3, 2], [3, 3, 10, -3], [3, -2, 3, 12]]\n",
      "not diagonally dominant\n",
      "no solution\n",
      "[[2, 1, -1], [-2, 5, -3], [-1, -6, -9]]\n",
      "not diagonally dominant\n",
      "no solution\n"
     ]
    },
    {
     "name": "stderr",
     "output_type": "stream",
     "text": [
      "C:\\Users\\bcamaster\\AppData\\Local\\Temp\\ipykernel_27844\\2205177128.py:23: RuntimeWarning: invalid value encountered in scalar divide\n",
      "  newValue[j] = (y[j] + np.dot(row, newValue))/diagonal[j]\n",
      "C:\\Users\\bcamaster\\AppData\\Local\\Temp\\ipykernel_27844\\2205177128.py:23: RuntimeWarning: divide by zero encountered in scalar divide\n",
      "  newValue[j] = (y[j] + np.dot(row, newValue))/diagonal[j]\n",
      "C:\\Users\\bcamaster\\AppData\\Local\\Temp\\ipykernel_27844\\2205177128.py:27: RuntimeWarning: invalid value encountered in subtract\n",
      "  distance = np.sqrt(np.dot(newValue-oldValue, newValue-oldValue))\n"
     ]
    }
   ],
   "source": [
    "for i, (x,y) in enumerate(zip(caseX, caseY)):\n",
    "    if gaussSeidel(x, y, 0.01, 15):\n",
    "        print(\"Solution foud\")\n",
    "    else:\n",
    "        print(\"no solution\")"
   ]
  }
 ],
 "metadata": {
  "kernelspec": {
   "display_name": "Python 3 (ipykernel)",
   "language": "python",
   "name": "python3"
  },
  "language_info": {
   "codemirror_mode": {
    "name": "ipython",
    "version": 3
   },
   "file_extension": ".py",
   "mimetype": "text/x-python",
   "name": "python",
   "nbconvert_exporter": "python",
   "pygments_lexer": "ipython3",
   "version": "3.11.1"
  }
 },
 "nbformat": 4,
 "nbformat_minor": 5
}
